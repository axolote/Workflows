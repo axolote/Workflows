{
 "metadata": {
  "name": "",
  "signature": "sha256:c455fc17629f990daefc62ecae33576e4a8daf0f174cd91c1526873da15c04ba"
 },
 "nbformat": 3,
 "nbformat_minor": 0,
 "worksheets": [
  {
   "cells": [
    {
     "cell_type": "markdown",
     "metadata": {},
     "source": [
      "# Adapted from \n",
      "http://blog.miguelgrinberg.com/post/easy-web-scraping-with-python \n",
      "<br />\n",
      "and\n",
      "<br />\n",
      "http://www.gregreda.com/2013/03/03/web-scraping-101-with-python/\n",
      "\n",
      "# Main Steps for Scraping a Website\n",
      "1. Load a web page as a string\n",
      "2. Parse the HTML from a web page to locate the objects of interest\n",
      "\n",
      "<hr />"
     ]
    },
    {
     "cell_type": "markdown",
     "metadata": {},
     "source": [
      "# Set up virtual environment for scraping"
     ]
    },
    {
     "cell_type": "code",
     "collapsed": false,
     "input": [
      "\n",
      "``` python\n",
      "$ mkdir pycon-scraper\n",
      "$ virtualenv venv\n",
      "$ source venv/bin/activate\n",
      "(venv) $ pip install requests beautifulsoup4 wget\n",
      "```"
     ],
     "language": "python",
     "metadata": {},
     "outputs": [
      {
       "ename": "SyntaxError",
       "evalue": "invalid syntax (<ipython-input-1-54fe24aaf85f>, line 2)",
       "output_type": "pyerr",
       "traceback": [
        "\u001b[1;36m  File \u001b[1;32m\"<ipython-input-1-54fe24aaf85f>\"\u001b[1;36m, line \u001b[1;32m2\u001b[0m\n\u001b[1;33m    ``` python\u001b[0m\n\u001b[1;37m              ^\u001b[0m\n\u001b[1;31mSyntaxError\u001b[0m\u001b[1;31m:\u001b[0m invalid syntax\n"
       ]
      }
     ],
     "prompt_number": 1
    },
    {
     "cell_type": "code",
     "collapsed": false,
     "input": [],
     "language": "python",
     "metadata": {},
     "outputs": []
    }
   ],
   "metadata": {}
  }
 ]
}